{
  "nbformat": 4,
  "nbformat_minor": 0,
  "metadata": {
    "colab": {
      "name": "covid19.ipynb",
      "provenance": [],
      "collapsed_sections": [],
      "authorship_tag": "ABX9TyMPpjDSps6BjBnBr5iLfVr4",
      "include_colab_link": true
    },
    "kernelspec": {
      "name": "python3",
      "display_name": "Python 3"
    },
    "accelerator": "GPU"
  },
  "cells": [
    {
      "cell_type": "markdown",
      "metadata": {
        "id": "view-in-github",
        "colab_type": "text"
      },
      "source": [
        "<a href=\"https://colab.research.google.com/github/Pryscilla123/Algortimo-DP-Covid19/blob/main/covid19.ipynb\" target=\"_parent\"><img src=\"https://colab.research.google.com/assets/colab-badge.svg\" alt=\"Open In Colab\"/></a>"
      ]
    },
    {
      "cell_type": "code",
      "metadata": {
        "id": "vcJ2GdrTtcnv",
        "colab": {
          "base_uri": "https://localhost:8080/",
          "height": 38
        },
        "outputId": "3226a72d-4d13-4700-8096-5bcffdb4ebf5"
      },
      "source": [
        "import torch\n",
        "from torch import nn, optim\n",
        "from torchvision import datasets, transforms\n",
        "import zipfile\n",
        "import numpy as np\n",
        "import matplotlib.pyplot as plt\n",
        "import torch.nn.functional as F\n",
        "import cv2 as cv\n",
        "torch.__version__"
      ],
      "execution_count": null,
      "outputs": [
        {
          "output_type": "execute_result",
          "data": {
            "application/vnd.google.colaboratory.intrinsic+json": {
              "type": "string"
            },
            "text/plain": [
              "'1.8.1+cu101'"
            ]
          },
          "metadata": {
            "tags": []
          },
          "execution_count": 1
        }
      ]
    },
    {
      "cell_type": "code",
      "metadata": {
        "id": "JZ3BiaEjNDHI",
        "colab": {
          "base_uri": "https://localhost:8080/"
        },
        "outputId": "136b5b98-19b9-4fed-a979-e0e724762d49"
      },
      "source": [
        "!pip install split-folders"
      ],
      "execution_count": null,
      "outputs": [
        {
          "output_type": "stream",
          "text": [
            "Collecting split-folders\n",
            "  Downloading https://files.pythonhosted.org/packages/b8/5f/3c2b2f7ea5e047c8cdc3bb00ae582c5438fcdbbedcc23b3cc1c2c7aae642/split_folders-0.4.3-py3-none-any.whl\n",
            "Installing collected packages: split-folders\n",
            "Successfully installed split-folders-0.4.3\n"
          ],
          "name": "stdout"
        }
      ]
    },
    {
      "cell_type": "code",
      "metadata": {
        "id": "4bW1vFp6NJHI",
        "colab": {
          "base_uri": "https://localhost:8080/"
        },
        "outputId": "02610210-8fc5-4433-be78-2c12ca86674f"
      },
      "source": [
        "!pip install split-folders tqdm"
      ],
      "execution_count": null,
      "outputs": [
        {
          "output_type": "stream",
          "text": [
            "Requirement already satisfied: split-folders in /usr/local/lib/python3.7/dist-packages (0.4.3)\n",
            "Requirement already satisfied: tqdm in /usr/local/lib/python3.7/dist-packages (4.41.1)\n"
          ],
          "name": "stdout"
        }
      ]
    },
    {
      "cell_type": "code",
      "metadata": {
        "id": "99CNWdsANOrn"
      },
      "source": [
        "import splitfolders"
      ],
      "execution_count": null,
      "outputs": []
    },
    {
      "cell_type": "code",
      "metadata": {
        "id": "KHRPSqfLytnL",
        "colab": {
          "base_uri": "https://localhost:8080/"
        },
        "outputId": "c2cf214d-c48e-498e-d53d-34acb535b41e"
      },
      "source": [
        "torch.manual_seed(123)"
      ],
      "execution_count": null,
      "outputs": [
        {
          "output_type": "execute_result",
          "data": {
            "text/plain": [
              "<torch._C.Generator at 0x7f284b6498d0>"
            ]
          },
          "metadata": {
            "tags": []
          },
          "execution_count": 5
        }
      ]
    },
    {
      "cell_type": "code",
      "metadata": {
        "id": "6m7ZcHsGy54c",
        "colab": {
          "base_uri": "https://localhost:8080/"
        },
        "outputId": "ba9da8ae-8e9e-4ad5-ef15-a40f519c359b"
      },
      "source": [
        "from google.colab import drive\n",
        "drive.mount('/content/gdrive')"
      ],
      "execution_count": null,
      "outputs": [
        {
          "output_type": "stream",
          "text": [
            "Mounted at /content/gdrive\n"
          ],
          "name": "stdout"
        }
      ]
    },
    {
      "cell_type": "code",
      "metadata": {
        "id": "lcfufrx-zN3e"
      },
      "source": [
        "data_dir = '/content/gdrive/My Drive/COVID-19-master/X-Ray Image DataSet'"
      ],
      "execution_count": null,
      "outputs": []
    },
    {
      "cell_type": "code",
      "metadata": {
        "id": "YdX7ju97MSAC",
        "colab": {
          "base_uri": "https://localhost:8080/"
        },
        "outputId": "6cd7cd64-d61d-4603-9e99-7dd97022ea2a"
      },
      "source": [
        "#dividindo o dataset entre treinamento, teste e validação\n",
        "splitfolders.ratio(data_dir, output='dataset', seed=1337, ratio=(.8, .1, .1), group_prefix=None)"
      ],
      "execution_count": null,
      "outputs": [
        {
          "output_type": "stream",
          "text": [
            "Copying files: 1192 files [08:16,  2.40 files/s]\n"
          ],
          "name": "stderr"
        }
      ]
    },
    {
      "cell_type": "code",
      "metadata": {
        "id": "SpVxCSmBRcae"
      },
      "source": [
        "data_dir_test = '/content/dataset/test'\n",
        "data_dir_train = '/content/dataset/train'"
      ],
      "execution_count": null,
      "outputs": []
    },
    {
      "cell_type": "code",
      "metadata": {
        "id": "5hg6d5eXRu6a"
      },
      "source": [
        "#passando pelo transformador de imagem, normalizando e passando para tensor(o de treinamento aumenta o numero de imagens)\n",
        "#tem poucas imagens, por isso eu aumento\n",
        "transform_train = transforms.Compose(\n",
        "    [\n",
        "     transforms.Resize([64, 64]), #padronizando o tamanho\n",
        "     #aumentando algumas imagens ao dataset pegando algumas já existente e transformando em outras com umas mudanças\n",
        "     transforms.RandomHorizontalFlip(), #imagens novas giradas horizontalmente\n",
        "     transforms.RandomAffine(degrees=7, translate=(0, 0.07), shear=0.2, scale=(1, 1.2)), #mudando alguns aspectos\n",
        "     transforms.ToTensor() #passando para tensor\n",
        "    ]\n",
        ")"
      ],
      "execution_count": null,
      "outputs": []
    },
    {
      "cell_type": "code",
      "metadata": {
        "id": "6bPGY1L1Rwpe"
      },
      "source": [
        "transform_test = transforms.Compose(\n",
        "    [\n",
        "     transforms.Resize([64, 64]), #redimensionando\n",
        "     transforms.ToTensor() #passando para tensor\n",
        "    ]\n",
        ")"
      ],
      "execution_count": null,
      "outputs": []
    },
    {
      "cell_type": "code",
      "metadata": {
        "id": "Q5qpfiT2RzVV"
      },
      "source": [
        "train_dataset = datasets.ImageFolder(data_dir_train, transform=transform_train) #criando o dataset de treinamento"
      ],
      "execution_count": null,
      "outputs": []
    },
    {
      "cell_type": "code",
      "metadata": {
        "id": "a5Jyz7vER3Ne",
        "colab": {
          "base_uri": "https://localhost:8080/"
        },
        "outputId": "42033e47-3d30-4d76-d65b-422477d00da0"
      },
      "source": [
        "train_dataset"
      ],
      "execution_count": null,
      "outputs": [
        {
          "output_type": "execute_result",
          "data": {
            "text/plain": [
              "Dataset ImageFolder\n",
              "    Number of datapoints: 953\n",
              "    Root location: /content/dataset/train\n",
              "    StandardTransform\n",
              "Transform: Compose(\n",
              "               Resize(size=[64, 64], interpolation=bilinear)\n",
              "               RandomHorizontalFlip(p=0.5)\n",
              "               RandomAffine(degrees=[-7.0, 7.0], translate=(0, 0.07), scale=(1, 1.2), shear=[-0.2, 0.2])\n",
              "               ToTensor()\n",
              "           )"
            ]
          },
          "metadata": {
            "tags": []
          },
          "execution_count": 15
        }
      ]
    },
    {
      "cell_type": "code",
      "metadata": {
        "id": "3htqkaVcSvLg"
      },
      "source": [
        "train_loader = torch.utils.data.DataLoader(train_dataset, batch_size = 32, shuffle=True) #passando o dataset para loader\n",
        "#batch_size significa que será criado vários conjuntos com 32 imagens cadas e a cada 32 imagens vai ter a atualização de pesos e kernels"
      ],
      "execution_count": null,
      "outputs": []
    },
    {
      "cell_type": "code",
      "metadata": {
        "id": "4vYL5qv8SbhO"
      },
      "source": [
        "test_dataset = datasets.ImageFolder(data_dir_test, transform=transform_test) #mesma coisa com o dataset do teste"
      ],
      "execution_count": null,
      "outputs": []
    },
    {
      "cell_type": "code",
      "metadata": {
        "id": "v8l_0tC1SllV",
        "colab": {
          "base_uri": "https://localhost:8080/"
        },
        "outputId": "88b653e3-b39e-4d1d-90a7-e9259edac1b1"
      },
      "source": [
        "test_dataset"
      ],
      "execution_count": null,
      "outputs": [
        {
          "output_type": "execute_result",
          "data": {
            "text/plain": [
              "Dataset ImageFolder\n",
              "    Number of datapoints: 121\n",
              "    Root location: /content/dataset/test\n",
              "    StandardTransform\n",
              "Transform: Compose(\n",
              "               Resize(size=[64, 64], interpolation=bilinear)\n",
              "               ToTensor()\n",
              "           )"
            ]
          },
          "metadata": {
            "tags": []
          },
          "execution_count": 18
        }
      ]
    },
    {
      "cell_type": "code",
      "metadata": {
        "id": "KJrnDO9FSxfJ"
      },
      "source": [
        "test_loader = torch.utils.data.DataLoader(test_dataset, batch_size = 32, shuffle=True) #mesma coisa com o loader do teste"
      ],
      "execution_count": null,
      "outputs": []
    },
    {
      "cell_type": "code",
      "metadata": {
        "id": "xcNS1G6lXsjF"
      },
      "source": [
        "class Net(nn.Module):\n",
        "  def __init__(self):\n",
        "    super(Net, self).__init__()\n",
        "\n",
        "    self.conv1 = nn.Conv2d(in_channels=3, out_channels=64, kernel_size=(3,3))\n",
        "    self.conv2 = nn.Conv2d(64, 64, (3, 3))\n",
        "    self.activation = nn.ReLU()\n",
        "    self.bnorm = nn.BatchNorm2d(num_features=64)\n",
        "    self.pool = nn.MaxPool2d(kernel_size = (2,2))\n",
        "    self.flatten = nn.Flatten()\n",
        "\n",
        "    # output = (input - filter + 1) / stride\n",
        "    # convolução 1: (64 - 3 + 1) / 1 = 62x62\n",
        "    # pooling 1: 31x31\n",
        "    # convolução 2: (31 - 3 + 1) / 1 = 29x29\n",
        "    # pooling 2: 14x14\n",
        "    # 14 * 14 * 64\n",
        "    # 12.544 -> 128 -> 128 -> 3\n",
        "    self.linear1 = nn.Linear(in_features=14*14*64, out_features=128)\n",
        "    self.linear2 = nn.Linear(128, 128)\n",
        "    self.output = nn.Linear(128, 3)\n",
        "    self.dropout = nn.Dropout(p = 0.2)\n",
        "\n",
        "  def forward(self, X):\n",
        "    X = self.pool(self.bnorm(self.activation(self.conv1(X))))\n",
        "    X = self.pool(self.bnorm(self.activation(self.conv2(X))))\n",
        "    X = self.flatten(X)\n",
        "\n",
        "    X = self.dropout(self.activation(self.linear1(X)))\n",
        "    X = self.dropout(self.activation(self.linear2(X)))\n",
        "    X = self.output(X)\n",
        "\n",
        "    return X"
      ],
      "execution_count": null,
      "outputs": []
    },
    {
      "cell_type": "code",
      "metadata": {
        "id": "hGAd2nl0YCw7"
      },
      "source": [
        "classificador = Net()\n",
        "criterion = nn.CrossEntropyLoss()\n",
        "optimizer = optim.SGD(classificador.parameters(), lr=0.001, momentum=0.9)"
      ],
      "execution_count": null,
      "outputs": []
    },
    {
      "cell_type": "code",
      "metadata": {
        "id": "xgpvot6tS8re",
        "colab": {
          "base_uri": "https://localhost:8080/"
        },
        "outputId": "e38261b3-96fb-437b-dae2-9c8e8b1a9a13"
      },
      "source": [
        "device = torch.device('cuda') if torch.cuda.is_available() else torch.device('cpu')\n",
        "device"
      ],
      "execution_count": null,
      "outputs": [
        {
          "output_type": "execute_result",
          "data": {
            "text/plain": [
              "device(type='cuda')"
            ]
          },
          "metadata": {
            "tags": []
          },
          "execution_count": 22
        }
      ]
    },
    {
      "cell_type": "code",
      "metadata": {
        "id": "SJHtU-OaXcjg",
        "colab": {
          "base_uri": "https://localhost:8080/"
        },
        "outputId": "dc3e629b-a5ca-407d-f81d-e0913b996c81"
      },
      "source": [
        "classificador.to(device)"
      ],
      "execution_count": null,
      "outputs": [
        {
          "output_type": "execute_result",
          "data": {
            "text/plain": [
              "Net(\n",
              "  (conv1): Conv2d(3, 64, kernel_size=(3, 3), stride=(1, 1))\n",
              "  (conv2): Conv2d(64, 64, kernel_size=(3, 3), stride=(1, 1))\n",
              "  (activation): ReLU()\n",
              "  (bnorm): BatchNorm2d(64, eps=1e-05, momentum=0.1, affine=True, track_running_stats=True)\n",
              "  (pool): MaxPool2d(kernel_size=(2, 2), stride=(2, 2), padding=0, dilation=1, ceil_mode=False)\n",
              "  (flatten): Flatten(start_dim=1, end_dim=-1)\n",
              "  (linear1): Linear(in_features=12544, out_features=128, bias=True)\n",
              "  (linear2): Linear(in_features=128, out_features=128, bias=True)\n",
              "  (output): Linear(in_features=128, out_features=3, bias=True)\n",
              "  (dropout): Dropout(p=0.2, inplace=False)\n",
              ")"
            ]
          },
          "metadata": {
            "tags": []
          },
          "execution_count": 23
        }
      ]
    },
    {
      "cell_type": "code",
      "metadata": {
        "id": "zZHCAI8QXwis"
      },
      "source": [
        "def training_loop(loader, epoch):\n",
        "    running_loss = 0.\n",
        "    running_accuracy = 0.\n",
        "    \n",
        "    for i, data in enumerate(loader):\n",
        "        inputs, labels = data\n",
        "                \n",
        "        inputs, labels = inputs.to(device), labels.to(device)\n",
        "\n",
        "        optimizer.zero_grad()        \n",
        "        outputs = classificador(inputs)\n",
        "\n",
        "        loss = criterion(outputs, labels)\n",
        "        loss.backward()\n",
        "        \n",
        "        optimizer.step()\n",
        "\n",
        "        running_loss += loss.item()\n",
        "\n",
        "        ps = F.softmax(outputs) #transformando o output em probabilidade \n",
        "        top_p, top_class = ps.topk(k = 1, dim = 1) #alguns parametros para que isso ocorra\n",
        "        equals = top_class == labels.view(*top_class.shape) #colocando a igualdade pegando a maior probabilidade\n",
        "        #tipo pode acontecer de ter 60% de chance de ser covid, então o output será 0\n",
        "\n",
        "        accuracy = torch.mean(equals.type(torch.float)) #critério de avaliação accuracy\n",
        "\n",
        "        running_accuracy += accuracy\n",
        "\n",
        "              \n",
        "        # Imprimindo os dados referentes a este loop\n",
        "        print('\\rÉpoca {:3d} - Loop {:3d} de {:3d}: perda {:03.2f} - precisão {:03.2f}'.format(epoch + 1, i + 1, len(loader), loss, \n",
        "                                   accuracy), end = '\\r')\n",
        "        \n",
        "    # Imprimindo os dados referentes a esta época\n",
        "    print('\\rÉPOCA {:3d} FINALIZADA: perda {:.5f} - precisão {:.5f}'.format(epoch+1, running_loss/len(loader), \n",
        "                     running_accuracy/len(loader)))"
      ],
      "execution_count": null,
      "outputs": []
    },
    {
      "cell_type": "code",
      "metadata": {
        "id": "MZWExrgKX5UX",
        "colab": {
          "base_uri": "https://localhost:8080/"
        },
        "outputId": "a16eb641-22c5-43cc-ab30-a0be27bba02c"
      },
      "source": [
        "for epoch in range(10):\n",
        "  print('Treinando...')\n",
        "  training_loop(train_loader, epoch)\n",
        "  classificador.eval()\n",
        "  print('Validando...')\n",
        "  training_loop(test_loader, epoch)\n",
        "  classificador.train()"
      ],
      "execution_count": null,
      "outputs": [
        {
          "output_type": "stream",
          "text": [
            "Treinando...\n"
          ],
          "name": "stdout"
        },
        {
          "output_type": "stream",
          "text": [
            "/usr/local/lib/python3.7/dist-packages/ipykernel_launcher.py:20: UserWarning: Implicit dimension choice for softmax has been deprecated. Change the call to include dim=X as an argument.\n"
          ],
          "name": "stderr"
        },
        {
          "output_type": "stream",
          "text": [
            "ÉPOCA   1 FINALIZADA: perda 0.92650 - precisão 0.59887\n",
            "Validando...\n",
            "ÉPOCA   1 FINALIZADA: perda 1.03386 - precisão 0.50813\n",
            "Treinando...\n",
            "ÉPOCA   2 FINALIZADA: perda 0.77748 - precisão 0.65558\n",
            "Validando...\n",
            "ÉPOCA   2 FINALIZADA: perda 0.83557 - precisão 0.59094\n",
            "Treinando...\n",
            "ÉPOCA   3 FINALIZADA: perda 0.69189 - precisão 0.68742\n",
            "Validando...\n",
            "ÉPOCA   3 FINALIZADA: perda 0.85824 - precisão 0.58281\n",
            "Treinando...\n",
            "ÉPOCA   4 FINALIZADA: perda 0.64770 - precisão 0.70925\n",
            "Validando...\n",
            "ÉPOCA   4 FINALIZADA: perda 0.89931 - precisão 0.55281\n",
            "Treinando...\n",
            "ÉPOCA   5 FINALIZADA: perda 0.62746 - precisão 0.70792\n",
            "Validando...\n",
            "ÉPOCA   5 FINALIZADA: perda 0.82860 - precisão 0.54500\n",
            "Treinando...\n",
            "ÉPOCA   6 FINALIZADA: perda 0.58967 - precisão 0.74183\n",
            "Validando...\n",
            "ÉPOCA   6 FINALIZADA: perda 0.67717 - precisão 0.65438\n",
            "Treinando...\n",
            "ÉPOCA   7 FINALIZADA: perda 0.57493 - precisão 0.73708\n",
            "Validando...\n",
            "ÉPOCA   7 FINALIZADA: perda 0.66556 - precisão 0.74563\n",
            "Treinando...\n",
            "ÉPOCA   8 FINALIZADA: perda 0.55684 - precisão 0.76046\n",
            "Validando...\n",
            "ÉPOCA   8 FINALIZADA: perda 0.84197 - precisão 0.57313\n",
            "Treinando...\n",
            "ÉPOCA   9 FINALIZADA: perda 0.55666 - precisão 0.76104\n",
            "Validando...\n",
            "ÉPOCA   9 FINALIZADA: perda 0.59249 - precisão 0.73469\n",
            "Treinando...\n",
            "ÉPOCA  10 FINALIZADA: perda 0.52294 - precisão 0.76329\n",
            "Validando...\n",
            "ÉPOCA  10 FINALIZADA: perda 0.54110 - precisão 0.73250\n"
          ],
          "name": "stdout"
        }
      ]
    },
    {
      "cell_type": "code",
      "metadata": {
        "id": "GmYEFw10ca4a"
      },
      "source": [
        "data_dir_val = '/content/dataset/val'"
      ],
      "execution_count": null,
      "outputs": []
    },
    {
      "cell_type": "code",
      "metadata": {
        "id": "sI0B-HB9eZyk"
      },
      "source": [
        "def classificar_imagem(fname):\n",
        "  from PIL import Image\n",
        "  import matplotlib.pyplot as plt\n",
        "  imagem_teste = Image.open(data_dir_val + '/' + fname)\n",
        "  plt.imshow(imagem_teste)\n",
        "\n",
        "  #parte de arrumar a imagem e passar para tensor\n",
        "  import numpy as np\n",
        "  imagem_teste = imagem_teste.resize((64, 64)) #redimencionando\n",
        "  imagem_teste = imagem_teste.convert('RGB') #colocando o canal de cor, nesse caso RGB\n",
        "  imagem_teste = np.array(imagem_teste.getdata()).reshape(*imagem_teste.size, 3) #passando para numpy array\n",
        "  imagem_teste = imagem_teste / 255 #padronizando a matriz em números entre 0 e 1\n",
        "  imagem_teste = imagem_teste.transpose(2, 0, 1) #passando o transpose que muda a ordem das dimensões pegando primeiro\n",
        "  #o batch_size e por ultimo os canais de cores\n",
        "  imagem_teste = torch.tensor(imagem_teste, dtype=torch.float).view(-1, *imagem_teste.shape)#passando para tensor\n",
        "\n",
        "  classificador.eval()\n",
        "  imagem_teste = imagem_teste.to(device)\n",
        "  output = classificador.forward(imagem_teste)\n",
        "  output = F.softmax(output)#passando o output para probabilidade\n",
        "  output = output.cpu().detach().numpy()\n",
        "  index = np.argmax(output)#arredondando o resultado\n",
        "\n",
        "  print(index)\n",
        "\n",
        "  idx_to_class = {value: key for key, value in test_dataset.class_to_idx.items()}#pega o nome da posição correspondente\n",
        "  #ao output\n",
        "\n",
        "  return idx_to_class[index]"
      ],
      "execution_count": null,
      "outputs": []
    },
    {
      "cell_type": "code",
      "metadata": {
        "id": "epOgz77DenSg",
        "colab": {
          "base_uri": "https://localhost:8080/",
          "height": 346
        },
        "outputId": "d5466a66-16c0-4573-d4f4-51fa40ef44f9"
      },
      "source": [
        "imagem = '/Covid-19/kjr-21-e25-g001-l-a.jpg'\n",
        "classificar_imagem(imagem)"
      ],
      "execution_count": null,
      "outputs": [
        {
          "output_type": "stream",
          "text": [
            "0\n"
          ],
          "name": "stdout"
        },
        {
          "output_type": "stream",
          "text": [
            "/usr/local/lib/python3.7/dist-packages/ipykernel_launcher.py:20: UserWarning: Implicit dimension choice for softmax has been deprecated. Change the call to include dim=X as an argument.\n"
          ],
          "name": "stderr"
        },
        {
          "output_type": "execute_result",
          "data": {
            "application/vnd.google.colaboratory.intrinsic+json": {
              "type": "string"
            },
            "text/plain": [
              "'Covid-19'"
            ]
          },
          "metadata": {
            "tags": []
          },
          "execution_count": 28
        },
        {
          "output_type": "display_data",
          "data": {
            "image/png": "[encoded data removed]",
            "text/plain": [
              "<Figure size 432x288 with 1 Axes>"
            ]
          },
          "metadata": {
            "tags": [],
            "needs_background": "light"
          }
        }
      ]
    }
  ]
}